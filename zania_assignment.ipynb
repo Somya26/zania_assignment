{
 "cells": [
  {
   "cell_type": "code",
   "execution_count": 1,
   "metadata": {},
   "outputs": [],
   "source": [
    "import openai\n",
    "import fitz  # PyMuPDF\n",
    "import openai\n",
    "from slack_sdk import WebClient\n",
    "from slack_sdk.errors import SlackApiError\n",
    "import os\n",
    "import logging"
   ]
  },
  {
   "cell_type": "code",
   "execution_count": 2,
   "metadata": {},
   "outputs": [],
   "source": [
    "# Configure logging\n",
    "logging.basicConfig(level=logging.INFO)\n",
    "logger = logging.getLogger(__name__)"
   ]
  },
  {
   "cell_type": "code",
   "execution_count": 5,
   "metadata": {},
   "outputs": [
    {
     "name": "stdout",
     "output_type": "stream",
     "text": [
      "\n"
     ]
    }
   ],
   "source": [
    "# Load environment variables\n",
    "os.environ['OPENAI_API_KEY'] = ''\n",
    "print(os.getenv('OPENAI_API_KEY'))\n",
    "\n",
    "from openai import OpenAI\n",
    "client = OpenAI()\n",
    "\n",
    "# SLACK_BOT_TOKEN = os.getenv('SLACK_BOT_TOKEN')\n",
    "# SLACK_CHANNEL_ID = os.getenv('SLACK_CHANNEL_ID')"
   ]
  },
  {
   "cell_type": "code",
   "execution_count": 4,
   "metadata": {},
   "outputs": [
    {
     "name": "stderr",
     "output_type": "stream",
     "text": [
      "INFO:__main__:extracted text from the Downloads/handbook.pdf pdf file\n",
      "INFO:httpx:HTTP Request: POST https://api.openai.com/v1/chat/completions \"HTTP/1.1 200 OK\"\n",
      "INFO:__main__:got the response from the gpt\n"
     ]
    },
    {
     "name": "stdout",
     "output_type": "stream",
     "text": [
      "\n",
      "Question: What is the name of the company?\n",
      "Answer: Zania, Inc.\n",
      "\n"
     ]
    },
    {
     "name": "stderr",
     "output_type": "stream",
     "text": [
      "INFO:httpx:HTTP Request: POST https://api.openai.com/v1/chat/completions \"HTTP/1.1 200 OK\"\n",
      "INFO:__main__:got the response from the gpt\n"
     ]
    },
    {
     "name": "stdout",
     "output_type": "stream",
     "text": [
      "\n",
      "Question: Who is the CEO of the company?\n",
      "Answer: The CEO of the company is Shruti Gupta.\n",
      "\n"
     ]
    },
    {
     "name": "stderr",
     "output_type": "stream",
     "text": [
      "INFO:httpx:HTTP Request: POST https://api.openai.com/v1/chat/completions \"HTTP/1.1 429 Too Many Requests\"\n",
      "INFO:openai._base_client:Retrying request to /chat/completions in 24.110000 seconds\n",
      "INFO:httpx:HTTP Request: POST https://api.openai.com/v1/chat/completions \"HTTP/1.1 200 OK\"\n",
      "INFO:__main__:got the response from the gpt\n"
     ]
    },
    {
     "name": "stdout",
     "output_type": "stream",
     "text": [
      "\n",
      "Question: What is the vacation policy?\n",
      "Answer: Zania, Inc. provides employees with paid vacation. \n",
      "\n",
      "**Eligibility:**\n",
      "- All full-time regular employees are eligible to receive vacation time immediately upon hire, upon completion of the introductory period, or after completing a specified number of days of employment.\n",
      "\n",
      "**Deposits Into Your Leave Account:**\n",
      "- Vacation is calculated according to the employee's work anniversary year, calendar year, or fiscal year.\n",
      "- Employees receive vacation based on their length of service, which may be granted in a lump sum or accrued according to a schedule determined by the Company.\n",
      "\n",
      "**Leave Usage and Requests for Leave:**\n",
      "- Employees are encouraged to use their vacation time and must request it from their Manager as far in advance as possible.\n",
      "- The Company will generally grant requests for vacation when possible, considering business needs.\n",
      "\n",
      "**Carryover:**\n",
      "- Unused vacation can be carried over to the following year, or it may expire at the end of the leave year, depending on the specific policy chosen by the Company.\n",
      "\n",
      "**Separation of Employment:**\n",
      "- Upon separation of employment for any reason, employees will either forfeit any earned but unused vacation time or will be paid for earned but unused vacation time, depending on state law.\n",
      "\n",
      "Overall, the vacation policy emphasizes the importance of taking vacation time while also outlining the procedures for requesting and using vacation.\n",
      "\n"
     ]
    },
    {
     "name": "stderr",
     "output_type": "stream",
     "text": [
      "INFO:httpx:HTTP Request: POST https://api.openai.com/v1/chat/completions \"HTTP/1.1 429 Too Many Requests\"\n",
      "INFO:openai._base_client:Retrying request to /chat/completions in 20.000000 seconds\n",
      "INFO:httpx:HTTP Request: POST https://api.openai.com/v1/chat/completions \"HTTP/1.1 200 OK\"\n",
      "INFO:__main__:got the response from the gpt\n"
     ]
    },
    {
     "name": "stdout",
     "output_type": "stream",
     "text": [
      "\n",
      "Question: What is the termination policy?\n",
      "Answer: The termination policy at Zania, Inc. is as follows:\n",
      "\n",
      "1. **At-Will Employment**: Employment with Zania, Inc. is on an \"at-will\" basis, meaning either the employee or the company can terminate the employment at any time, with or without notice and with or without cause.\n",
      "\n",
      "2. **No Contract Creation**: Nothing in the employee handbook or any other company document is intended to create a contract for guaranteed or continued employment. Only the CEO has the authority to make promises regarding guaranteed employment, and such promises must be in writing and signed by the CEO.\n",
      "\n",
      "3. **Job Abandonment**: If an employee fails to show up for work or fails to call in with an acceptable reason for the absence for a specified period of consecutive days, they will be considered to have abandoned their job and voluntarily resigned.\n",
      "\n",
      "4. **Resignation Policy**: Employees are requested to provide a minimum of two weeks' notice of their resignation. Managers are requested to provide a minimum of four weeks' notice. Failure to provide the requested notice may result in ineligibility for rehire.\n",
      "\n",
      "5. **Final Pay**: Separated employees will be paid in accordance with applicable laws and company policies.\n",
      "\n",
      "6. **Return of Company Property**: Employees must return all company property at the time of separation. Failure to return property may result in deductions from the final paycheck where allowed by law.\n",
      "\n",
      "7. **Exit Interview**: Employees may be asked to participate in an exit interview when leaving the company, which aims to provide management with insights into the employee's decision to leave and identify areas for improvement.\n",
      "\n",
      "Overall, the termination policy emphasizes the at-will nature of employment, the importance of notice for resignations, and the return of company property upon separation.\n",
      "\n"
     ]
    }
   ],
   "source": [
    "def extract_text_from_pdf(pdf_path):\n",
    "    \"\"\"Extracts text from a PDF file.\"\"\"\n",
    "    try:\n",
    "        doc = fitz.open(pdf_path)\n",
    "        text = \"\"\n",
    "        for page in doc:\n",
    "            text += page.get_text()\n",
    "        doc.close()\n",
    "        logger.info(f\"extracted text from the {pdf_path} pdf file\")\n",
    "        return text\n",
    "    except Exception as e:\n",
    "        logger.error(f\"Error extracting text from PDF: {e}\")\n",
    "        return None\n",
    "\n",
    "# Function to query GPT model with extracted text\n",
    "def query_gpt(text, question):\n",
    "    prompt = f\"\"\"\n",
    "    The following is an employee handbook document. Extract the relevant information based on the question provided:\n",
    "    Document: \n",
    "    {text}\n",
    "    Question: {question}\n",
    "    Answer:\"\"\"\n",
    "\n",
    "    try:\n",
    "        response = client.chat.completions.create(\n",
    "            model=\"gpt-4o-mini\",  \n",
    "            messages=[{\"role\": \"user\", \"content\": prompt}],\n",
    "            max_tokens=400,\n",
    "            temperature=0.2\n",
    "        )\n",
    "        logger.info(\"got the response from the gpt\")\n",
    "        return response.choices[0].message.content\n",
    "    except Exception as e:\n",
    "        logger.error(f\"Data Not Available: {e}\")\n",
    "        return None\n",
    "\n",
    "if __name__ == \"__main__\":\n",
    "    \n",
    "    # Extract text from the PDF\n",
    "    PDF_PATH = 'Downloads/handbook.pdf'\n",
    "    text = extract_text_from_pdf(PDF_PATH)\n",
    "\n",
    "    # Query the extracted text using OpenAI GPT\n",
    "    questions = [\n",
    "        \"What is the name of the company?\",\n",
    "        \"Who is the CEO of the company?\",\n",
    "        \"What is the vacation policy?\",\n",
    "        \"What is the termination policy?\"\n",
    "    ]\n",
    "\n",
    "    # Print results for each question\n",
    "    for question in questions:\n",
    "        answer = query_gpt(text, question)\n",
    "        print(f\"\\nQuestion: {question}\\nAnswer: {answer}\\n\")\n",
    "\n"
   ]
  },
  {
   "cell_type": "code",
   "execution_count": 11,
   "metadata": {},
   "outputs": [],
   "source": [
    "# !pip install PyMuPDF openai slack_sdk\n",
    "# !pip install slack_bolt"
   ]
  },
  {
   "cell_type": "code",
   "execution_count": 1,
   "metadata": {},
   "outputs": [],
   "source": [
    "# import os\n",
    "# # Use the package we installed\n",
    "# from slack_bolt import App\n",
    "\n",
    "# os.environ['SLACK_BOT_TOKEN'] = ''\n",
    "# os.environ['SLACK_SIGNING_SECRET'] = ''\n",
    "\n",
    "# # Initialize your app with your bot token and signing secret\n",
    "# app = App(\n",
    "#     token=os.environ.get(\"SLACK_BOT_TOKEN\"),\n",
    "#     signing_secret=os.environ.get(\"SLACK_SIGNING_SECRET\")\n",
    "# )\n",
    "\n",
    "# # Add functionality here later\n",
    "# # @app.event(\"app_home_opened\") etc.\n",
    "\n",
    "# # Ready? Start your app!\n",
    "# if __name__ == \"__main__\":\n",
    "#     app.start(port=int(os.environ.get(\"PORT\", 3000)))\n"
   ]
  },
  {
   "cell_type": "code",
   "execution_count": 2,
   "metadata": {},
   "outputs": [],
   "source": [
    "# from slack_sdk import WebClient\n",
    "# from slack_sdk.errors import SlackApiError\n",
    "\n",
    "# # Replace with your OAuth token\n",
    "# slack_token = ''\n",
    "\n",
    "# # Initialize the Slack client\n",
    "# client = WebClient(token=slack_token)\n",
    "\n",
    "# # Define the channel and the message\n",
    "# channel_id = ''  # Replace with your channel ID\n",
    "# message = \"Hello, Slack! This is a test message from Python.\"\n",
    "\n",
    "# try:\n",
    "#     # Post the message to the channel\n",
    "#     response = client.chat_postMessage(\n",
    "#         channel=channel_id,\n",
    "#         text=message\n",
    "#     )\n",
    "#     print(\"Message posted successfully!\")\n",
    "# except SlackApiError as e:\n",
    "#     print(f\"Error posting message: {e.response['error']}\")\n"
   ]
  }
 ],
 "metadata": {
  "kernelspec": {
   "display_name": "Python 3",
   "language": "python",
   "name": "python3"
  },
  "language_info": {
   "codemirror_mode": {
    "name": "ipython",
    "version": 3
   },
   "file_extension": ".py",
   "mimetype": "text/x-python",
   "name": "python",
   "nbconvert_exporter": "python",
   "pygments_lexer": "ipython3",
   "version": "3.7.1"
  }
 },
 "nbformat": 4,
 "nbformat_minor": 2
}
